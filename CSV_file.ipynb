{
 "cells": [
  {
   "cell_type": "code",
   "execution_count": 1,
   "id": "0476bb7f",
   "metadata": {},
   "outputs": [],
   "source": [
    "import pandas as pd\n",
    "import seaborn as sbn\n",
    "import matplotlib.pyplot as mpl\n",
    "info = pd.read_csv(\"/home/masiki/Documents/DataScience/serious-injury-outcome-indicators-2000-2020-CSV.csv\")\n"
   ]
  },
  {
   "cell_type": "markdown",
   "id": "15701657",
   "metadata": {},
   "source": [
    "# Data About Serious Injury 2000-2020\n"
   ]
  },
  {
   "cell_type": "code",
   "execution_count": 2,
   "id": "5fa2d1cf",
   "metadata": {},
   "outputs": [
    {
     "data": {
      "text/html": [
       "<div>\n",
       "<style scoped>\n",
       "    .dataframe tbody tr th:only-of-type {\n",
       "        vertical-align: middle;\n",
       "    }\n",
       "\n",
       "    .dataframe tbody tr th {\n",
       "        vertical-align: top;\n",
       "    }\n",
       "\n",
       "    .dataframe thead th {\n",
       "        text-align: right;\n",
       "    }\n",
       "</style>\n",
       "<table border=\"1\" class=\"dataframe\">\n",
       "  <thead>\n",
       "    <tr style=\"text-align: right;\">\n",
       "      <th></th>\n",
       "      <th>Series_reference</th>\n",
       "      <th>Period</th>\n",
       "      <th>Type</th>\n",
       "      <th>Data_value</th>\n",
       "      <th>Lower_CI</th>\n",
       "      <th>Upper_CI</th>\n",
       "      <th>Units</th>\n",
       "      <th>Indicator</th>\n",
       "      <th>Cause</th>\n",
       "      <th>Validation</th>\n",
       "      <th>Population</th>\n",
       "      <th>Age</th>\n",
       "      <th>Severity</th>\n",
       "    </tr>\n",
       "  </thead>\n",
       "  <tbody>\n",
       "    <tr>\n",
       "      <th>0</th>\n",
       "      <td>W_A11</td>\n",
       "      <td>2000-02</td>\n",
       "      <td>Moving average</td>\n",
       "      <td>59.666667</td>\n",
       "      <td>50.925823</td>\n",
       "      <td>68.407510</td>\n",
       "      <td>Injuries</td>\n",
       "      <td>Number</td>\n",
       "      <td>Assault</td>\n",
       "      <td>Validated</td>\n",
       "      <td>Whole pop</td>\n",
       "      <td>All ages</td>\n",
       "      <td>Fatal</td>\n",
       "    </tr>\n",
       "    <tr>\n",
       "      <th>1</th>\n",
       "      <td>W_A11</td>\n",
       "      <td>2001-03</td>\n",
       "      <td>Moving average</td>\n",
       "      <td>60.000000</td>\n",
       "      <td>51.234775</td>\n",
       "      <td>68.765225</td>\n",
       "      <td>Injuries</td>\n",
       "      <td>Number</td>\n",
       "      <td>Assault</td>\n",
       "      <td>Validated</td>\n",
       "      <td>Whole pop</td>\n",
       "      <td>All ages</td>\n",
       "      <td>Fatal</td>\n",
       "    </tr>\n",
       "    <tr>\n",
       "      <th>2</th>\n",
       "      <td>W_A11</td>\n",
       "      <td>2002-04</td>\n",
       "      <td>Moving average</td>\n",
       "      <td>59.000000</td>\n",
       "      <td>50.308125</td>\n",
       "      <td>67.691875</td>\n",
       "      <td>Injuries</td>\n",
       "      <td>Number</td>\n",
       "      <td>Assault</td>\n",
       "      <td>Validated</td>\n",
       "      <td>Whole pop</td>\n",
       "      <td>All ages</td>\n",
       "      <td>Fatal</td>\n",
       "    </tr>\n",
       "    <tr>\n",
       "      <th>3</th>\n",
       "      <td>W_A11</td>\n",
       "      <td>2003-05</td>\n",
       "      <td>Moving average</td>\n",
       "      <td>59.000000</td>\n",
       "      <td>50.308125</td>\n",
       "      <td>67.691875</td>\n",
       "      <td>Injuries</td>\n",
       "      <td>Number</td>\n",
       "      <td>Assault</td>\n",
       "      <td>Validated</td>\n",
       "      <td>Whole pop</td>\n",
       "      <td>All ages</td>\n",
       "      <td>Fatal</td>\n",
       "    </tr>\n",
       "    <tr>\n",
       "      <th>4</th>\n",
       "      <td>W_A11</td>\n",
       "      <td>2004-06</td>\n",
       "      <td>Moving average</td>\n",
       "      <td>61.333333</td>\n",
       "      <td>52.471252</td>\n",
       "      <td>70.195415</td>\n",
       "      <td>Injuries</td>\n",
       "      <td>Number</td>\n",
       "      <td>Assault</td>\n",
       "      <td>Validated</td>\n",
       "      <td>Whole pop</td>\n",
       "      <td>All ages</td>\n",
       "      <td>Fatal</td>\n",
       "    </tr>\n",
       "    <tr>\n",
       "      <th>5</th>\n",
       "      <td>W_A11</td>\n",
       "      <td>2005-07</td>\n",
       "      <td>Moving average</td>\n",
       "      <td>63.000000</td>\n",
       "      <td>54.018317</td>\n",
       "      <td>71.981683</td>\n",
       "      <td>Injuries</td>\n",
       "      <td>Number</td>\n",
       "      <td>Assault</td>\n",
       "      <td>Validated</td>\n",
       "      <td>Whole pop</td>\n",
       "      <td>All ages</td>\n",
       "      <td>Fatal</td>\n",
       "    </tr>\n",
       "    <tr>\n",
       "      <th>6</th>\n",
       "      <td>W_A11</td>\n",
       "      <td>2006-08</td>\n",
       "      <td>Moving average</td>\n",
       "      <td>57.333333</td>\n",
       "      <td>48.765104</td>\n",
       "      <td>65.901562</td>\n",
       "      <td>Injuries</td>\n",
       "      <td>Number</td>\n",
       "      <td>Assault</td>\n",
       "      <td>Validated</td>\n",
       "      <td>Whole pop</td>\n",
       "      <td>All ages</td>\n",
       "      <td>Fatal</td>\n",
       "    </tr>\n",
       "    <tr>\n",
       "      <th>7</th>\n",
       "      <td>W_A11</td>\n",
       "      <td>2007-09</td>\n",
       "      <td>Moving average</td>\n",
       "      <td>63.666667</td>\n",
       "      <td>54.637586</td>\n",
       "      <td>72.695747</td>\n",
       "      <td>Injuries</td>\n",
       "      <td>Number</td>\n",
       "      <td>Assault</td>\n",
       "      <td>Validated</td>\n",
       "      <td>Whole pop</td>\n",
       "      <td>All ages</td>\n",
       "      <td>Fatal</td>\n",
       "    </tr>\n",
       "    <tr>\n",
       "      <th>8</th>\n",
       "      <td>W_A11</td>\n",
       "      <td>2008-10</td>\n",
       "      <td>Moving average</td>\n",
       "      <td>64.000000</td>\n",
       "      <td>54.947314</td>\n",
       "      <td>73.052686</td>\n",
       "      <td>Injuries</td>\n",
       "      <td>Number</td>\n",
       "      <td>Assault</td>\n",
       "      <td>Validated</td>\n",
       "      <td>Whole pop</td>\n",
       "      <td>All ages</td>\n",
       "      <td>Fatal</td>\n",
       "    </tr>\n",
       "    <tr>\n",
       "      <th>9</th>\n",
       "      <td>W_A11</td>\n",
       "      <td>2009-11</td>\n",
       "      <td>Moving average</td>\n",
       "      <td>64.333333</td>\n",
       "      <td>55.257103</td>\n",
       "      <td>73.409563</td>\n",
       "      <td>Injuries</td>\n",
       "      <td>Number</td>\n",
       "      <td>Assault</td>\n",
       "      <td>Validated</td>\n",
       "      <td>Whole pop</td>\n",
       "      <td>All ages</td>\n",
       "      <td>Fatal</td>\n",
       "    </tr>\n",
       "    <tr>\n",
       "      <th>10</th>\n",
       "      <td>W_A11</td>\n",
       "      <td>2010-12</td>\n",
       "      <td>Moving average</td>\n",
       "      <td>55.333333</td>\n",
       "      <td>46.915877</td>\n",
       "      <td>63.750790</td>\n",
       "      <td>Injuries</td>\n",
       "      <td>Number</td>\n",
       "      <td>Assault</td>\n",
       "      <td>Validated</td>\n",
       "      <td>Whole pop</td>\n",
       "      <td>All ages</td>\n",
       "      <td>Fatal</td>\n",
       "    </tr>\n",
       "    <tr>\n",
       "      <th>11</th>\n",
       "      <td>W_A11</td>\n",
       "      <td>2011-13</td>\n",
       "      <td>Moving average</td>\n",
       "      <td>54.333333</td>\n",
       "      <td>45.992285</td>\n",
       "      <td>62.674382</td>\n",
       "      <td>Injuries</td>\n",
       "      <td>Number</td>\n",
       "      <td>Assault</td>\n",
       "      <td>Validated</td>\n",
       "      <td>Whole pop</td>\n",
       "      <td>All ages</td>\n",
       "      <td>Fatal</td>\n",
       "    </tr>\n",
       "    <tr>\n",
       "      <th>12</th>\n",
       "      <td>W_A11</td>\n",
       "      <td>2012-14</td>\n",
       "      <td>Moving average</td>\n",
       "      <td>51.333333</td>\n",
       "      <td>43.225829</td>\n",
       "      <td>59.440838</td>\n",
       "      <td>Injuries</td>\n",
       "      <td>Number</td>\n",
       "      <td>Assault</td>\n",
       "      <td>Validated</td>\n",
       "      <td>Whole pop</td>\n",
       "      <td>All ages</td>\n",
       "      <td>Fatal</td>\n",
       "    </tr>\n",
       "    <tr>\n",
       "      <th>13</th>\n",
       "      <td>W_A11</td>\n",
       "      <td>2013-15</td>\n",
       "      <td>Moving average</td>\n",
       "      <td>52.000000</td>\n",
       "      <td>43.840019</td>\n",
       "      <td>60.159981</td>\n",
       "      <td>Injuries</td>\n",
       "      <td>Number</td>\n",
       "      <td>Assault</td>\n",
       "      <td>Validated</td>\n",
       "      <td>Whole pop</td>\n",
       "      <td>All ages</td>\n",
       "      <td>Fatal</td>\n",
       "    </tr>\n",
       "    <tr>\n",
       "      <th>14</th>\n",
       "      <td>W_A11</td>\n",
       "      <td>2014-16</td>\n",
       "      <td>Moving average</td>\n",
       "      <td>54.000000</td>\n",
       "      <td>45.684577</td>\n",
       "      <td>62.315423</td>\n",
       "      <td>Injuries</td>\n",
       "      <td>Number</td>\n",
       "      <td>Assault</td>\n",
       "      <td>Validated</td>\n",
       "      <td>Whole pop</td>\n",
       "      <td>All ages</td>\n",
       "      <td>Fatal</td>\n",
       "    </tr>\n",
       "  </tbody>\n",
       "</table>\n",
       "</div>"
      ],
      "text/plain": [
       "   Series_reference   Period            Type  Data_value   Lower_CI  \\\n",
       "0             W_A11  2000-02  Moving average   59.666667  50.925823   \n",
       "1             W_A11  2001-03  Moving average   60.000000  51.234775   \n",
       "2             W_A11  2002-04  Moving average   59.000000  50.308125   \n",
       "3             W_A11  2003-05  Moving average   59.000000  50.308125   \n",
       "4             W_A11  2004-06  Moving average   61.333333  52.471252   \n",
       "5             W_A11  2005-07  Moving average   63.000000  54.018317   \n",
       "6             W_A11  2006-08  Moving average   57.333333  48.765104   \n",
       "7             W_A11  2007-09  Moving average   63.666667  54.637586   \n",
       "8             W_A11  2008-10  Moving average   64.000000  54.947314   \n",
       "9             W_A11  2009-11  Moving average   64.333333  55.257103   \n",
       "10            W_A11  2010-12  Moving average   55.333333  46.915877   \n",
       "11            W_A11  2011-13  Moving average   54.333333  45.992285   \n",
       "12            W_A11  2012-14  Moving average   51.333333  43.225829   \n",
       "13            W_A11  2013-15  Moving average   52.000000  43.840019   \n",
       "14            W_A11  2014-16  Moving average   54.000000  45.684577   \n",
       "\n",
       "     Upper_CI     Units Indicator    Cause Validation Population       Age  \\\n",
       "0   68.407510  Injuries    Number  Assault  Validated  Whole pop  All ages   \n",
       "1   68.765225  Injuries    Number  Assault  Validated  Whole pop  All ages   \n",
       "2   67.691875  Injuries    Number  Assault  Validated  Whole pop  All ages   \n",
       "3   67.691875  Injuries    Number  Assault  Validated  Whole pop  All ages   \n",
       "4   70.195415  Injuries    Number  Assault  Validated  Whole pop  All ages   \n",
       "5   71.981683  Injuries    Number  Assault  Validated  Whole pop  All ages   \n",
       "6   65.901562  Injuries    Number  Assault  Validated  Whole pop  All ages   \n",
       "7   72.695747  Injuries    Number  Assault  Validated  Whole pop  All ages   \n",
       "8   73.052686  Injuries    Number  Assault  Validated  Whole pop  All ages   \n",
       "9   73.409563  Injuries    Number  Assault  Validated  Whole pop  All ages   \n",
       "10  63.750790  Injuries    Number  Assault  Validated  Whole pop  All ages   \n",
       "11  62.674382  Injuries    Number  Assault  Validated  Whole pop  All ages   \n",
       "12  59.440838  Injuries    Number  Assault  Validated  Whole pop  All ages   \n",
       "13  60.159981  Injuries    Number  Assault  Validated  Whole pop  All ages   \n",
       "14  62.315423  Injuries    Number  Assault  Validated  Whole pop  All ages   \n",
       "\n",
       "   Severity  \n",
       "0     Fatal  \n",
       "1     Fatal  \n",
       "2     Fatal  \n",
       "3     Fatal  \n",
       "4     Fatal  \n",
       "5     Fatal  \n",
       "6     Fatal  \n",
       "7     Fatal  \n",
       "8     Fatal  \n",
       "9     Fatal  \n",
       "10    Fatal  \n",
       "11    Fatal  \n",
       "12    Fatal  \n",
       "13    Fatal  \n",
       "14    Fatal  "
      ]
     },
     "execution_count": 2,
     "metadata": {},
     "output_type": "execute_result"
    }
   ],
   "source": [
    "info.head(15)"
   ]
  },
  {
   "cell_type": "code",
   "execution_count": 3,
   "id": "5556f909",
   "metadata": {},
   "outputs": [
    {
     "data": {
      "text/plain": [
       "<AxesSubplot:xlabel='Age', ylabel='count'>"
      ]
     },
     "execution_count": 3,
     "metadata": {},
     "output_type": "execute_result"
    },
    {
     "data": {
      "image/png": "[encoded data removed]",
      "text/plain": [
       "<Figure size 432x288 with 1 Axes>"
      ]
     },
     "metadata": {
      "needs_background": "light"
     },
     "output_type": "display_data"
    }
   ],
   "source": [
    "sbn.countplot(x=\"Age\", data=info)"
   ]
  },
  {
   "cell_type": "code",
   "execution_count": 4,
   "id": "a1905dc9",
   "metadata": {},
   "outputs": [
    {
     "data": {
      "text/plain": [
       "<AxesSubplot:xlabel='Age', ylabel='count'>"
      ]
     },
     "execution_count": 4,
     "metadata": {},
     "output_type": "execute_result"
    },
    {
     "data": {
      "image/png": "[encoded data removed]",
      "text/plain": [
       "<Figure size 432x288 with 1 Axes>"
      ]
     },
     "metadata": {
      "needs_background": "light"
     },
     "output_type": "display_data"
    }
   ],
   "source": [
    "sbn.countplot(x=\"Age\", hue=\"Population\", data=info)"
   ]
  },
  {
   "cell_type": "code",
   "execution_count": 5,
   "id": "62f64d11",
   "metadata": {},
   "outputs": [
    {
     "data": {
      "text/plain": [
       "<AxesSubplot:>"
      ]
     },
     "execution_count": 5,
     "metadata": {},
     "output_type": "execute_result"
    },
    {
     "data": {
      "image/png": "[encoded data removed]",
      "text/plain": [
       "<Figure size 432x288 with 1 Axes>"
      ]
     },
     "metadata": {
      "needs_background": "light"
     },
     "output_type": "display_data"
    }
   ],
   "source": [
    "info[\"Population\"].hist()"
   ]
  },
  {
   "cell_type": "code",
   "execution_count": 6,
   "id": "9af5c6a7",
   "metadata": {},
   "outputs": [
    {
     "data": {
      "text/plain": [
       "Index(['Series_reference', 'Period', 'Type', 'Data_value', 'Lower_CI',\n",
       "       'Upper_CI', 'Units', 'Indicator', 'Cause', 'Validation', 'Population',\n",
       "       'Age', 'Severity'],\n",
       "      dtype='object')"
      ]
     },
     "execution_count": 6,
     "metadata": {},
     "output_type": "execute_result"
    }
   ],
   "source": [
    "info.columns"
   ]
  },
  {
   "cell_type": "code",
   "execution_count": 7,
   "id": "15e6e104",
   "metadata": {},
   "outputs": [
    {
     "name": "stdout",
     "output_type": "stream",
     "text": [
      "<class 'pandas.core.frame.DataFrame'>\n",
      "RangeIndex: 2748 entries, 0 to 2747\n",
      "Data columns (total 13 columns):\n",
      " #   Column            Non-Null Count  Dtype  \n",
      "---  ------            --------------  -----  \n",
      " 0   Series_reference  2748 non-null   object \n",
      " 1   Period            2748 non-null   object \n",
      " 2   Type              2748 non-null   object \n",
      " 3   Data_value        2748 non-null   float64\n",
      " 4   Lower_CI          2748 non-null   float64\n",
      " 5   Upper_CI          2748 non-null   float64\n",
      " 6   Units             2748 non-null   object \n",
      " 7   Indicator         2748 non-null   object \n",
      " 8   Cause             2748 non-null   object \n",
      " 9   Validation        2748 non-null   object \n",
      " 10  Population        2748 non-null   object \n",
      " 11  Age               2748 non-null   object \n",
      " 12  Severity          2748 non-null   object \n",
      "dtypes: float64(3), object(10)\n",
      "memory usage: 279.2+ KB\n"
     ]
    }
   ],
   "source": [
    "info.info()"
   ]
  }
 ],
 "metadata": {
  "kernelspec": {
   "display_name": "Python 3",
   "language": "python",
   "name": "python3"
  },
  "language_info": {
   "codemirror_mode": {
    "name": "ipython",
    "version": 3
   },
   "file_extension": ".py",
   "mimetype": "text/x-python",
   "name": "python",
   "nbconvert_exporter": "python",
   "pygments_lexer": "ipython3",
   "version": "3.8.8"
  }
 },
 "nbformat": 4,
 "nbformat_minor": 5
}
